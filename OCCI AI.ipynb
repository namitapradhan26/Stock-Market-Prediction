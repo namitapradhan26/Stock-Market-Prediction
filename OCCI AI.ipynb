{
 "cells": [
  {
   "cell_type": "code",
   "execution_count": 1,
   "metadata": {
    "collapsed": true
   },
   "outputs": [],
   "source": [
    "occ_n=30\n",
    "import pylab \n",
    "import matplotlib\n",
    "import datetime as dt\n",
    "import csv\n",
    "import statistics as stat\n",
    "import matplotlib.pyplot as plt\n",
    "import numpy as np \n",
    "import pandas as pd\n",
    "\n",
    "with open(\"13-03-2017-TO-12-03-2018JKCEMENTALLN.csv\") as csvfile:\n",
    "    readCSV= csv.reader(csvfile)\n",
    "    vol=[]\n",
    "    high=[]\n",
    "    low=[]\n",
    "    close_price=[]\n",
    "    dates=[]\n",
    "    open_price=[]\n",
    "    high_price=[]\n",
    "    low_price=[]\n",
    "    for i in readCSV:\n",
    "        price=i[8]\n",
    "        #date= i[0]\n",
    "        #volume=i[6+2]\n",
    "        open_p=i[4]\n",
    "        high_p=i[5]\n",
    "        low_p=i[6]\n",
    "        close_price.append(price)\n",
    "        #dates.append(date)\n",
    "        #vol.append(volume)\n",
    "        open_price.append(open_p)\n",
    "        high_price.append(high_p)\n",
    "        low_price.append(low_p)\n",
    "close_price.remove(close_price[0]);\n",
    "open_price.remove(open_price[0]);\n",
    "high_price.remove(high_price[0]);\n",
    "low_price.remove(low_price[0]);\n",
    "#dates.remove(dates[0]);\n",
    "#vol.remove(vol[0]);\n",
    "y= np.array(close_price).astype('float')\n",
    "y_o= np.array(open_price).astype('float')\n",
    "h= np.array(high_price).astype('float')\n",
    "l= np.array(open_price).astype('float')\n",
    "#vole= np.array(vol).astype('float')"
   ]
  },
  {
   "cell_type": "code",
   "execution_count": 2,
   "metadata": {
    "collapsed": true
   },
   "outputs": [],
   "source": [
    "#OCC Indicator \n",
    "\n",
    "cumsum, moving_aves = [0], []\n",
    "for i, x in enumerate(y, 1):\n",
    "    cumsum.append(cumsum[i-1] + x)\n",
    "    if i>occ_n:  \n",
    "        moving_ave = (cumsum[i] - cumsum[i-occ_n])/occ_n\n",
    "        moving_aves.append(round(moving_ave,2))\n",
    "occ_c=np.array(moving_aves).astype('float')\n",
    "\n",
    "cumsum, moving_aves = [0], []\n",
    "for i, x in enumerate(y_o, 1):\n",
    "    cumsum.append(cumsum[i-1] + x)\n",
    "    if i>occ_n:\n",
    "\n",
    "        moving_ave = (cumsum[i] - cumsum[i-occ_n])/occ_n\n",
    "        moving_aves.append(round(moving_ave,2))\n",
    "occ_o=np.array(moving_aves).astype('float')\n",
    "occi= np.column_stack((occ_c,occ_o))\n",
    "#print(occi)\n",
    "cc=[]\n",
    "for i in range(0,len(occ_o)):\n",
    "    d=occ_c[i]-occ_o[i]\n",
    "    #print(d)\n",
    "    cc.append(occ_c[i]-occ_o[i])\n",
    "#print(cc)"
   ]
  },
  {
   "cell_type": "code",
   "execution_count": 3,
   "metadata": {
    "collapsed": true
   },
   "outputs": [],
   "source": [
    "#print(len(y))\n",
    "y_new=y[occ_n:len(y)]\n",
    "#print(len(y_new))\n",
    "#print(y_new)\n",
    "y_o_new=y_o[occ_n:len(y)]\n",
    "bs=np.empty(len(y_new),float)\n",
    "for i in range(0,len(y_new)):\n",
    "    bs[i]=stat.mean([y_new[i],y_o_new[i]])\n",
    "cc_new=cc[1:len(y)]\n",
    "#z= np.column_stack((y_new,y_o_new,bs,cc))\n",
    "#print(len(y_new))\n",
    "#print(len(cc))\n",
    "#print(bs)"
   ]
  },
  {
   "cell_type": "code",
   "execution_count": 4,
   "metadata": {},
   "outputs": [
    {
     "name": "stdout",
     "output_type": "stream",
     "text": [
      "218\n",
      "[0 0 0 0 0 0 0 0 0 0 0 0 0 0 0 0 0 0 0 0 0 0 0 0 0 0 0 0 1 1 1 0 0 0 0 0 0\n",
      " 0 0 0 0 0 0 0 0 0 0 0 0 0 0 0 0 0 0 0 0 0 0 0 0 0 0 0 0 0 0 0 0 0 1 0 0 0\n",
      " 0 0 0 1 0 0 0 0 0 0 0 0 0 0 0 0 0 0 0 0 0 0 0 0 0 0 0 0 0 0 0 0 0 0 0 0 0\n",
      " 0 0 0 0 0 0 0 0 0 0 0 0 0 0 0 0 0 0 0 0 1 0 0 0 0 0 0 0 0 0 1 0 0 0 0 0 0\n",
      " 0 0 0 0 0 0 0 0 0 0 0 0 0 0 0 0 0 0 0 0 0 0 0 0 0 1 0 0 0 0 0 0 0 0 0 0 0\n",
      " 0 0 0 1 0 0 0 0 0 0 1 1 0 0 0 0 0 0 0 0 0 0 0 0 0 0 0 0 0 0 0 0 0]\n"
     ]
    }
   ],
   "source": [
    "\n",
    "asign = np.sign(cc)\n",
    "sign_ch = ((np.roll(asign, 1) - asign) != 0).astype(int)\n",
    "sign_ch[0]=0\n",
    "print(len(sign_ch))\n",
    "print(sign_ch)"
   ]
  },
  {
   "cell_type": "code",
   "execution_count": 5,
   "metadata": {},
   "outputs": [
    {
     "name": "stdout",
     "output_type": "stream",
     "text": [
      "[1043.7750000000001, 1018.225, 994.22499999999991, 1114.4749999999999, 1028.4000000000001]\n",
      "[1061.1750000000002, 1032.7750000000001, 1038.9000000000001, 1056.875, 1141.6999999999998, 1043.9749999999999]\n",
      "Buylength\n",
      "5\n",
      "6\n"
     ]
    }
   ],
   "source": [
    "sell=[]\n",
    "buy=[]\n",
    "for i in range(1,len(y_new)):\n",
    "    if sign_ch[i]==1:\n",
    "        if cc[i-1]>0:\n",
    "            #print(\"Sell\")\n",
    "            sell.append(bs[i])\n",
    "        elif cc[i-1]<0:\n",
    "            #print(\"Buy\")\n",
    "            buy.append(bs[i])\n",
    "            \n",
    "print(buy)\n",
    "print(sell)\n",
    "print(\"Buylength\")\n",
    "print(len(buy))\n",
    "print(len(sell))\n",
    "    "
   ]
  },
  {
   "cell_type": "code",
   "execution_count": 6,
   "metadata": {
    "collapsed": true
   },
   "outputs": [],
   "source": [
    "proper=[]\n",
    "if len(buy)==len(sell):\n",
    "    for i in range(0,len(buy)):\n",
    "        #print(0)\n",
    "        proper.append(100*((sell[i]-buy[i])/buy[i]))\n",
    "elif len(sell)>len(buy):\n",
    "    #print(1)\n",
    "    for i in range(0,len(sell)-1):\n",
    "        sell[i]=sell[i+1]\n",
    "    \n",
    "    for i in range(0,len(buy)):\n",
    "        #print(sell[i])\n",
    "        #print(buy[i])\n",
    "        \n",
    "        proper.append(100*((sell[i]-buy[i])/buy[i]))\n",
    "elif len(sell)<len(buy):\n",
    "    #print(2)\n",
    "    for i in range(0,len(buy)-1):\n",
    "        proper.append(100*((sell[i]-buy[i])/buy[i]))\n",
    "        \n",
    "    \n",
    "        \n",
    "#print(len(proper))\n",
    "\n",
    "#print(sell)"
   ]
  },
  {
   "cell_type": "code",
   "execution_count": 7,
   "metadata": {
    "collapsed": true
   },
   "outputs": [],
   "source": [
    "#print(proper)"
   ]
  },
  {
   "cell_type": "code",
   "execution_count": 8,
   "metadata": {},
   "outputs": [
    {
     "name": "stdout",
     "output_type": "stream",
     "text": [
      "Total no of trades 5\n",
      "Total no of profitable trades 4\n",
      "Total no of loss trades 1\n",
      "Average profit percent per trade 2.24707211682\n",
      "Percent Accuracy of trades 80.0\n"
     ]
    }
   ],
   "source": [
    "c=0\n",
    "for i in range(0,len(proper)):\n",
    "    if proper[i]>0:\n",
    "        c=c+1\n",
    "print(\"Total no of trades\",len(proper))\n",
    "\n",
    "print(\"Total no of profitable trades\",c)\n",
    "\n",
    "print(\"Total no of loss trades\",len(proper)-c)\n",
    "\n",
    "print(\"Average profit percent per trade\",stat.mean(proper))\n",
    "\n",
    "print(\"Percent Accuracy of trades\",100*c/len(proper))"
   ]
  },
  {
   "cell_type": "code",
   "execution_count": null,
   "metadata": {
    "collapsed": true
   },
   "outputs": [],
   "source": []
  },
  {
   "cell_type": "code",
   "execution_count": null,
   "metadata": {
    "collapsed": true
   },
   "outputs": [],
   "source": []
  },
  {
   "cell_type": "code",
   "execution_count": null,
   "metadata": {
    "collapsed": true
   },
   "outputs": [],
   "source": []
  },
  {
   "cell_type": "code",
   "execution_count": null,
   "metadata": {
    "collapsed": true
   },
   "outputs": [],
   "source": []
  },
  {
   "cell_type": "code",
   "execution_count": null,
   "metadata": {
    "collapsed": true
   },
   "outputs": [],
   "source": []
  },
  {
   "cell_type": "code",
   "execution_count": null,
   "metadata": {
    "collapsed": true
   },
   "outputs": [],
   "source": []
  }
 ],
 "metadata": {
  "kernelspec": {
   "display_name": "Python 3",
   "language": "python",
   "name": "python3"
  },
  "language_info": {
   "codemirror_mode": {
    "name": "ipython",
    "version": 3
   },
   "file_extension": ".py",
   "mimetype": "text/x-python",
   "name": "python",
   "nbconvert_exporter": "python",
   "pygments_lexer": "ipython3",
   "version": "3.6.1"
  }
 },
 "nbformat": 4,
 "nbformat_minor": 2
}
