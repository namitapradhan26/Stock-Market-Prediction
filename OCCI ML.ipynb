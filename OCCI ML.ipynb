{
 "cells": [
  {
   "cell_type": "code",
   "execution_count": 35,
   "metadata": {},
   "outputs": [
    {
     "name": "stdout",
     "output_type": "stream",
     "text": [
      "248\n"
     ]
    }
   ],
   "source": [
    "#n is 50\n",
    "import pylab \n",
    "import matplotlib\n",
    "import datetime as dt\n",
    "import csv\n",
    "import statistics as stat\n",
    "import matplotlib.pyplot as plt\n",
    "import numpy as np \n",
    "import pandas as pd\n",
    "with open(\"13-03-2017-TO-12-03-2018JUSTDIALALLN.csv\") as csvfile:\n",
    "    readCSV= csv.reader(csvfile)\n",
    "    vol=[]\n",
    "    close_price=[]\n",
    "    dates=[]\n",
    "    open_price=[]\n",
    "    for i in readCSV:\n",
    "        price=i[8]\n",
    "        date= i[2]\n",
    "        volume=i[10]\n",
    "        open_p=i[4]\n",
    "        close_price.append(price)\n",
    "        dates.append(date)\n",
    "        vol.append(volume)\n",
    "        open_price.append(open_p)\n",
    "close_price.remove(close_price[0])\n",
    "open_price.remove(open_price[0])\n",
    "dates.remove(dates[0])\n",
    "vol.remove(vol[0])\n",
    "y= np.array(close_price).astype('float')\n",
    "y_o= np.array(open_price).astype('float')\n",
    "vole= np.array(vol).astype('float')\n",
    "x = [dt.datetime.strptime(d,'%d-%b-%Y').date() for d in dates]\n",
    "#y = range(len(x))\n",
    "#plt.gca().xaxis.set_major_formatter(mdates.DateFormatter('%d-%b-%Y'))\n",
    "  \n",
    "#print(x)\n",
    "print(len(dates))\n",
    "#X= np.array(time).astype('float')\n"
   ]
  },
  {
   "cell_type": "code",
   "execution_count": 2,
   "metadata": {},
   "outputs": [
    {
     "name": "stdout",
     "output_type": "stream",
     "text": [
      "[[-0.70711174 -0.70710722 -0.70710202 -0.70711309 -0.70710439 -0.70711885\n",
      "  -0.70711961 -0.70710416 -0.70710675 -0.70711136 -0.70710736 -0.70711176\n",
      "  -0.70711303 -0.70711703 -0.70709858 -0.70710102 -0.70711503 -0.70711354\n",
      "  -0.70710242 -0.707104   -0.70711196 -0.70710387 -0.70711604 -0.70711574\n",
      "  -0.70710152 -0.70709984 -0.70711074 -0.70710424 -0.7071109  -0.7071094\n",
      "  -0.70712118 -0.70711245 -0.70710216 -0.70711198 -0.70711128 -0.70712315\n",
      "  -0.70709911 -0.70710209 -0.7070979  -0.70712281 -0.70712732 -0.70709739\n",
      "  -0.70711795 -0.70709863 -0.70711119 -0.70711305 -0.70710653 -0.70711687\n",
      "  -0.70710731 -0.70710751 -0.70711224 -0.70711021 -0.70711107 -0.70711028\n",
      "  -0.70711636 -0.7071023  -0.70710301 -0.70711055 -0.70710909 -0.70711607\n",
      "  -0.70711684 -0.70711413 -0.70711661 -0.7071038  -0.70710989 -0.70710489\n",
      "  -0.70710915 -0.70710535 -0.70710633 -0.70712132 -0.70710774 -0.70712329\n",
      "  -0.70710879 -0.70710605 -0.70710945 -0.70709754 -0.70711045 -0.70710575\n",
      "  -0.70710828 -0.7071063  -0.7071052  -0.70711533 -0.70710259 -0.7071132\n",
      "  -0.70711343 -0.70710695 -0.70710869 -0.70710867 -0.70710598 -0.70710652\n",
      "  -0.70710912 -0.70710854 -0.70711228 -0.70710421 -0.70711091 -0.70710408\n",
      "  -0.7071155  -0.70711134 -0.70711575 -0.70710885 -0.70710138 -0.70711243\n",
      "  -0.70710657 -0.70711754 -0.70709767 -0.70710481 -0.70710422 -0.70710193\n",
      "  -0.70710186 -0.70710664 -0.70710764 -0.70710942 -0.70710346 -0.70710173\n",
      "  -0.7071116  -0.70709829 -0.70710424 -0.70710425 -0.70711239 -0.70710734\n",
      "  -0.70710525 -0.70711039 -0.70711182 -0.70710929 -0.70710109 -0.70710828\n",
      "  -0.70710558 -0.70711247 -0.70710353 -0.70710884 -0.70711015 -0.70710754\n",
      "  -0.70711682 -0.70710767 -0.70710952 -0.70711459 -0.70710573 -0.70710771\n",
      "  -0.70711237 -0.70710795 -0.70710182 -0.70710385 -0.70710437 -0.70710703\n",
      "  -0.70711145 -0.70710557 -0.707107   -0.70710928 -0.70710562 -0.70710303\n",
      "  -0.70712493 -0.70710948 -0.70711037 -0.70711486 -0.70710524 -0.70710118\n",
      "  -0.70709964 -0.70710182 -0.70710975 -0.70710198 -0.70710715 -0.70710429\n",
      "  -0.70711393 -0.70710334 -0.7071095  -0.70710697 -0.70710107 -0.70710585\n",
      "  -0.70711331 -0.70710447 -0.70710485 -0.70710744 -0.70711368 -0.70711047\n",
      "  -0.70710716 -0.70710453 -0.70710482 -0.70711108 -0.70710726 -0.70710558\n",
      "  -0.7071189  -0.70711181 -0.70710512 -0.70710673 -0.70710351 -0.70710222\n",
      "  -0.707106   -0.70711604 -0.70711127 -0.70711303 -0.70710733 -0.70710449\n",
      "  -0.70710933 -0.70710593 -0.70711378 -0.70711069 -0.70710101 -0.70710725\n",
      "  -0.70710977 -0.7071147  -0.70710594 -0.70711475 -0.70710916 -0.70710675\n",
      "  -0.70710192 -0.70710377 -0.70711082 -0.70710389 -0.70710389 -0.70710308\n",
      "  -0.70710769 -0.70710331 -0.70710778 -0.70712294 -0.70710778 -0.70710144\n",
      "  -0.70710705 -0.70711256 -0.70710546 -0.70711563 -0.70711493 -0.70710586\n",
      "  -0.70710826 -0.70711056 -0.70710271 -0.70710337 -0.70710729 -0.70710418\n",
      "  -0.70710401 -0.70710202 -0.70711051 -0.70710814 -0.70711199 -0.7071159\n",
      "  -0.70711059 -0.70710725 -0.70709913 -0.70710343 -0.70710955 -0.70711586\n",
      "  -0.70710327 -0.70710859 -0.70711339 -0.7071073  -0.70711491 -0.70710232\n",
      "  -0.70711871 -0.70710504]\n",
      " [-0.70710182 -0.70710634 -0.70711154 -0.70710048 -0.70710917 -0.70709471\n",
      "  -0.70709396 -0.7071094  -0.70710681 -0.7071022  -0.7071062  -0.7071018\n",
      "  -0.70710053 -0.70709654 -0.70711498 -0.70711254 -0.70709853 -0.70710002\n",
      "  -0.70711114 -0.70710957 -0.70710161 -0.70710969 -0.70709752 -0.70709782\n",
      "  -0.70711205 -0.70711373 -0.70710282 -0.70710932 -0.70710266 -0.70710416\n",
      "  -0.70709238 -0.70710111 -0.70711141 -0.70710158 -0.70710228 -0.70709041\n",
      "  -0.70711445 -0.70711148 -0.70711567 -0.70709075 -0.70708624 -0.70711617\n",
      "  -0.70709561 -0.70711494 -0.70710238 -0.70710051 -0.70710703 -0.70709669\n",
      "  -0.70710626 -0.70710605 -0.70710132 -0.70710335 -0.70710249 -0.70710328\n",
      "  -0.7070972  -0.70711126 -0.70711055 -0.70710301 -0.70710448 -0.70709749\n",
      "  -0.70709672 -0.70709943 -0.70709696 -0.70710976 -0.70710368 -0.70710868\n",
      "  -0.70710441 -0.70710821 -0.70710724 -0.70709224 -0.70710582 -0.70709027\n",
      "  -0.70710477 -0.70710751 -0.70710412 -0.70711602 -0.70710311 -0.70710781\n",
      "  -0.70710528 -0.70710726 -0.70710836 -0.70709823 -0.70711097 -0.70710037\n",
      "  -0.70710013 -0.70710661 -0.70710487 -0.7071049  -0.70710759 -0.70710705\n",
      "  -0.70710444 -0.70710502 -0.70710129 -0.70710935 -0.70710265 -0.70710948\n",
      "  -0.70709806 -0.70710222 -0.70709781 -0.70710471 -0.70711218 -0.70710113\n",
      "  -0.70710699 -0.70709602 -0.7071159  -0.70710875 -0.70710935 -0.70711163\n",
      "  -0.7071117  -0.70710693 -0.70710592 -0.70710415 -0.7071101  -0.70711183\n",
      "  -0.70710196 -0.70711528 -0.70710932 -0.70710931 -0.70710117 -0.70710622\n",
      "  -0.70710832 -0.70710317 -0.70710174 -0.70710427 -0.70711247 -0.70710528\n",
      "  -0.70710798 -0.70710109 -0.70711003 -0.70710472 -0.70710341 -0.70710602\n",
      "  -0.70709674 -0.7071059  -0.70710404 -0.70709897 -0.70710783 -0.70710585\n",
      "  -0.70710119 -0.70710561 -0.70711174 -0.70710971 -0.70710919 -0.70710653\n",
      "  -0.70710212 -0.70710799 -0.70710656 -0.70710428 -0.70710794 -0.70711054\n",
      "  -0.70708863 -0.70710408 -0.7071032  -0.7070987  -0.70710832 -0.70711238\n",
      "  -0.70711392 -0.70711174 -0.70710381 -0.70711158 -0.70710641 -0.70710928\n",
      "  -0.70709963 -0.70711023 -0.70710406 -0.7071066  -0.7071125  -0.70710771\n",
      "  -0.70710025 -0.70710909 -0.70710871 -0.70710612 -0.70709989 -0.70710309\n",
      "  -0.7071064  -0.70710903 -0.70710874 -0.70710248 -0.70710631 -0.70710798\n",
      "  -0.70709466 -0.70710175 -0.70710845 -0.70710683 -0.70711005 -0.70711134\n",
      "  -0.70710757 -0.70709752 -0.70710229 -0.70710054 -0.70710623 -0.70710908\n",
      "  -0.70710423 -0.70710763 -0.70709979 -0.70710287 -0.70711255 -0.70710631\n",
      "  -0.70710379 -0.70709886 -0.70710762 -0.70709882 -0.70710441 -0.70710681\n",
      "  -0.70711165 -0.70710979 -0.70710274 -0.70710967 -0.70710967 -0.70711048\n",
      "  -0.70710587 -0.70711025 -0.70710578 -0.70709062 -0.70710578 -0.70711212\n",
      "  -0.70710652 -0.70710101 -0.7071081  -0.70709794 -0.70709864 -0.7071077\n",
      "  -0.7071053  -0.707103   -0.70711085 -0.70711019 -0.70710627 -0.70710938\n",
      "  -0.70710955 -0.70711154 -0.70710305 -0.70710542 -0.70710157 -0.70709766\n",
      "  -0.70710298 -0.70710631 -0.70711443 -0.70711013 -0.70710401 -0.7070977\n",
      "  -0.70711029 -0.70710497 -0.70710017 -0.70710626 -0.70709865 -0.70711124\n",
      "  -0.70709485 -0.70710853]\n",
      " [ 1.41421356  1.41421356  1.41421356  1.41421356  1.41421356  1.41421356\n",
      "   1.41421356  1.41421356  1.41421356  1.41421356  1.41421356  1.41421356\n",
      "   1.41421356  1.41421356  1.41421356  1.41421356  1.41421356  1.41421356\n",
      "   1.41421356  1.41421356  1.41421356  1.41421356  1.41421356  1.41421356\n",
      "   1.41421356  1.41421356  1.41421356  1.41421356  1.41421356  1.41421356\n",
      "   1.41421356  1.41421356  1.41421356  1.41421356  1.41421356  1.41421356\n",
      "   1.41421356  1.41421356  1.41421356  1.41421356  1.41421356  1.41421356\n",
      "   1.41421356  1.41421356  1.41421356  1.41421356  1.41421356  1.41421356\n",
      "   1.41421356  1.41421356  1.41421356  1.41421356  1.41421356  1.41421356\n",
      "   1.41421356  1.41421356  1.41421356  1.41421356  1.41421356  1.41421356\n",
      "   1.41421356  1.41421356  1.41421356  1.41421356  1.41421356  1.41421356\n",
      "   1.41421356  1.41421356  1.41421356  1.41421356  1.41421356  1.41421356\n",
      "   1.41421356  1.41421356  1.41421356  1.41421356  1.41421356  1.41421356\n",
      "   1.41421356  1.41421356  1.41421356  1.41421356  1.41421356  1.41421356\n",
      "   1.41421356  1.41421356  1.41421356  1.41421356  1.41421356  1.41421356\n",
      "   1.41421356  1.41421356  1.41421356  1.41421356  1.41421356  1.41421356\n",
      "   1.41421356  1.41421356  1.41421356  1.41421356  1.41421356  1.41421356\n",
      "   1.41421356  1.41421356  1.41421356  1.41421356  1.41421356  1.41421356\n",
      "   1.41421356  1.41421356  1.41421356  1.41421356  1.41421356  1.41421356\n",
      "   1.41421356  1.41421356  1.41421356  1.41421356  1.41421356  1.41421356\n",
      "   1.41421356  1.41421356  1.41421356  1.41421356  1.41421356  1.41421356\n",
      "   1.41421356  1.41421356  1.41421356  1.41421356  1.41421356  1.41421356\n",
      "   1.41421356  1.41421356  1.41421356  1.41421356  1.41421356  1.41421356\n",
      "   1.41421356  1.41421356  1.41421356  1.41421356  1.41421356  1.41421356\n",
      "   1.41421356  1.41421356  1.41421356  1.41421356  1.41421356  1.41421356\n",
      "   1.41421356  1.41421356  1.41421356  1.41421356  1.41421356  1.41421356\n",
      "   1.41421356  1.41421356  1.41421356  1.41421356  1.41421356  1.41421356\n",
      "   1.41421356  1.41421356  1.41421356  1.41421356  1.41421356  1.41421356\n",
      "   1.41421356  1.41421356  1.41421356  1.41421356  1.41421356  1.41421356\n",
      "   1.41421356  1.41421356  1.41421356  1.41421356  1.41421356  1.41421356\n",
      "   1.41421356  1.41421356  1.41421356  1.41421356  1.41421356  1.41421356\n",
      "   1.41421356  1.41421356  1.41421356  1.41421356  1.41421356  1.41421356\n",
      "   1.41421356  1.41421356  1.41421356  1.41421356  1.41421356  1.41421356\n",
      "   1.41421356  1.41421356  1.41421356  1.41421356  1.41421356  1.41421356\n",
      "   1.41421356  1.41421356  1.41421356  1.41421356  1.41421356  1.41421356\n",
      "   1.41421356  1.41421356  1.41421356  1.41421356  1.41421356  1.41421356\n",
      "   1.41421356  1.41421356  1.41421356  1.41421356  1.41421356  1.41421356\n",
      "   1.41421356  1.41421356  1.41421356  1.41421356  1.41421356  1.41421356\n",
      "   1.41421356  1.41421356  1.41421356  1.41421356  1.41421356  1.41421356\n",
      "   1.41421356  1.41421356  1.41421356  1.41421356  1.41421356  1.41421356\n",
      "   1.41421356  1.41421356  1.41421356  1.41421356  1.41421356  1.41421356\n",
      "   1.41421356  1.41421356]]\n"
     ]
    },
    {
     "data": {
      "text/plain": [
       "'\\nfrom sklearn import preprocessing\\nimport numpy as np\\nX_train = np.array([y,y_o,vole])\\nX_scaled = preprocessing.scale(X_train)\\n\\nprint(X_scaled) \\n\\ny=X_scaled[0]\\ny_o=X_scaled[1]\\nvole=X_scaled[2]\\nprint(y)\\nprint(y_o)\\nprint(vole)\\n'"
      ]
     },
     "execution_count": 2,
     "metadata": {},
     "output_type": "execute_result"
    }
   ],
   "source": [
    "\n",
    "X = [y,y_o,vole]\n",
    "from sklearn.preprocessing import StandardScaler\n",
    "X_std = StandardScaler().fit_transform(X)\n",
    "print(X_std)\n",
    "y=X_std[0]\n",
    "y_o=X_std[1]\n",
    "vole=X_std[2]\n",
    "\n",
    "\"\"\"\n",
    "from sklearn import preprocessing\n",
    "X = [y,y_o,vole]\n",
    "X_normalized = preprocessing.normalize(X,norm='l2')\n",
    "\n",
    "print(X_normalized)\n",
    "y=X_normalized[0]\n",
    "y_o=X_normalized[1]\n",
    "vole=X_normalized[2]\n",
    "print(y)\n",
    "print(y_o)\n",
    "print(vole)\n",
    "\"\"\"\n",
    "\"\"\"\n",
    "from sklearn import preprocessing\n",
    "import numpy as np\n",
    "X_train = np.array([y,y_o,vole])\n",
    "X_scaled = preprocessing.scale(X_train)\n",
    "\n",
    "print(X_scaled) \n",
    "\n",
    "y=X_scaled[0]\n",
    "y_o=X_scaled[1]\n",
    "vole=X_scaled[2]\n",
    "print(y)\n",
    "print(y_o)\n",
    "print(vole)\n",
    "\"\"\""
   ]
  },
  {
   "cell_type": "code",
   "execution_count": 3,
   "metadata": {
    "collapsed": true
   },
   "outputs": [],
   "source": [
    "N=5\n",
    "nema=40\n",
    "n_sma_bb=30\n",
    "nrsi=10\n",
    "ns_macd=25\n",
    "nf_macd=20\n",
    "n_macd=30\n",
    "occ_n=8"
   ]
  },
  {
   "cell_type": "code",
   "execution_count": 4,
   "metadata": {},
   "outputs": [
    {
     "name": "stdout",
     "output_type": "stream",
     "text": [
      "244\n"
     ]
    }
   ],
   "source": [
    "#N=5\n",
    "cumsum, moving_aves = [0], []\n",
    "for i, x in enumerate(y, 1):\n",
    "    cumsum.append(cumsum[i-1] + x)\n",
    "    if i>=N:\n",
    "\n",
    "        moving_ave = (cumsum[i] - cumsum[i-N])/N\n",
    "#         print(cumsum)\n",
    "#         print(moving_ave)\n",
    "\n",
    "        #can do stuff with moving_ave here\n",
    "        moving_aves.append(round(moving_ave,2))\n",
    "# print(moving_aves)\n",
    "#l1=len(moving_aves)\n",
    "#print(l2)\n",
    "#print(type(moving_aves))\n",
    "sma=np.array(moving_aves).astype('float')\n",
    "#MA=np.array(moving_aves).astype('str')\n",
    "#print(sma)\n",
    "print(len(sma))"
   ]
  },
  {
   "cell_type": "code",
   "execution_count": 5,
   "metadata": {},
   "outputs": [
    {
     "data": {
      "text/plain": [
       "\"\\nplt.plot(x[49:],sma)\\nplt.gcf().autofmt_xdate()\\nplt.title('Simple Moving Average')\\nplt.ylabel('Price')\\nplt.xlabel('Time')\\nplt.show()\\n\""
      ]
     },
     "execution_count": 5,
     "metadata": {},
     "output_type": "execute_result"
    }
   ],
   "source": [
    "#nema=10\n",
    "ema=np.empty(len(y)-nema+1,float)\n",
    "c=0\n",
    "#n for ema\n",
    "\n",
    "#ema[]\n",
    "\n",
    "#for i in range(nema,len(y)):\n",
    "#    da.append(dates[i])\n",
    "    \n",
    "#x = [dt.datetime.strptime(d,'%d-%b-%Y').date() for d in da ]\n",
    "#y = range(len(x))\n",
    "#plt.gca().xaxis.set_major_formatter(mdates.DateFormatter('%d-%b-%Y'))\n",
    "#fig=plt.figure(figsize=(8, 6), dpi= 800, facecolor='w', edgecolor='k')\n",
    "#plt.plot(x,sma)\n",
    "#plt.gcf().autofmt_xdate()\n",
    "#plt.title('Simple Moving Average',size=20)\n",
    "#plt.ylabel(' SMA Price',size=20)\n",
    "#plt.xlabel('Time',size=20)\n",
    "#plt.savefig('2.png')\n",
    "#plt.show() \n",
    "\n",
    "'''\n",
    "plt.plot(x[49:],sma)\n",
    "plt.gcf().autofmt_xdate()\n",
    "plt.title('Simple Moving Average')\n",
    "plt.ylabel('Price')\n",
    "plt.xlabel('Time')\n",
    "plt.show()\n",
    "'''"
   ]
  },
  {
   "cell_type": "code",
   "execution_count": 6,
   "metadata": {
    "collapsed": true
   },
   "outputs": [],
   "source": [
    "ema[0]=stat.mean(y[0:nema-1])"
   ]
  },
  {
   "cell_type": "code",
   "execution_count": 7,
   "metadata": {},
   "outputs": [
    {
     "name": "stdout",
     "output_type": "stream",
     "text": [
      "209\n"
     ]
    }
   ],
   "source": [
    "for i in range(1,len(y)-nema):\n",
    "    a=-(ema[i-1]-y[nema-1+i])\n",
    "    ema[i]=a*(2/(N+1)) + ema[i-1]\n",
    "    #print(y[i+49])\n",
    "    #print(i)\n",
    "#print(ema)\n",
    "print(len(ema))"
   ]
  },
  {
   "cell_type": "code",
   "execution_count": 8,
   "metadata": {},
   "outputs": [
    {
     "name": "stdout",
     "output_type": "stream",
     "text": [
      "219\n"
     ]
    }
   ],
   "source": [
    "#n_sma_bb=20\n",
    "nbbu=2\n",
    "nbbd=2\n",
    "\n",
    "cumsum, moving_aves = [0], []\n",
    "for i, x in enumerate(y, 1):\n",
    "    cumsum.append(cumsum[i-1] + x)\n",
    "    if i>=n_sma_bb:\n",
    "\n",
    "        moving_ave = (cumsum[i] - cumsum[i-n_sma_bb])/n_sma_bb\n",
    "        moving_aves.append(round(moving_ave,2))\n",
    "sma_bb=np.array(moving_aves).astype('float')\n",
    "dev=np.empty(len(y)-n_sma_bb+1,float)\n",
    "print(len(sma_bb))"
   ]
  },
  {
   "cell_type": "code",
   "execution_count": 9,
   "metadata": {},
   "outputs": [
    {
     "name": "stdout",
     "output_type": "stream",
     "text": [
      "219\n"
     ]
    }
   ],
   "source": [
    "for i in range(0,len(y)-n_sma_bb+1):\n",
    "    dev[i]=stat.pstdev(y[i:i+n_sma_bb])\n",
    "#print(dev)\n",
    "print(len(sma_bb))\n",
    "#print(len(y)-n_sma_bb)"
   ]
  },
  {
   "cell_type": "code",
   "execution_count": 10,
   "metadata": {},
   "outputs": [
    {
     "name": "stdout",
     "output_type": "stream",
     "text": [
      "219\n"
     ]
    },
    {
     "data": {
      "text/plain": [
       "219"
      ]
     },
     "execution_count": 10,
     "metadata": {},
     "output_type": "execute_result"
    }
   ],
   "source": [
    "bbu=np.empty(len(y)-n_sma_bb+1,float)\n",
    "bbd=np.empty(len(y)-n_sma_bb+1,float)\n",
    "print(len(bbd))\n",
    "len(sma_bb)"
   ]
  },
  {
   "cell_type": "code",
   "execution_count": 11,
   "metadata": {
    "collapsed": true
   },
   "outputs": [],
   "source": [
    "for i in range(0,len(y)-n_sma_bb+1):\n",
    "    bbu[i]=sma_bb[i]+nbbu*(dev[i])\n",
    "#print(bbu)\n",
    "#print(len(bbu))\n"
   ]
  },
  {
   "cell_type": "code",
   "execution_count": 12,
   "metadata": {
    "collapsed": true
   },
   "outputs": [],
   "source": [
    "for i in range(0,len(y)-n_sma_bb+1):\n",
    "    bbd[i]=sma_bb[i]-nbbd*(dev[i])\n",
    "#print(bbd)"
   ]
  },
  {
   "cell_type": "code",
   "execution_count": 13,
   "metadata": {},
   "outputs": [
    {
     "name": "stdout",
     "output_type": "stream",
     "text": [
      "[[-0.71       -0.70998829 -0.71001171]\n",
      " [-0.71       -0.70998752 -0.71001248]\n",
      " [-0.71       -0.70998749 -0.71001251]\n",
      " [-0.71       -0.7099875  -0.7100125 ]\n",
      " [-0.71       -0.70998754 -0.71001246]\n",
      " [-0.71       -0.70998766 -0.71001234]\n",
      " [-0.71       -0.70998714 -0.71001286]\n",
      " [-0.71       -0.70998713 -0.71001287]\n",
      " [-0.71       -0.70998701 -0.71001299]\n",
      " [-0.71       -0.70998643 -0.71001357]\n",
      " [-0.71       -0.70998554 -0.71001446]\n",
      " [-0.71       -0.70998414 -0.71001586]\n",
      " [-0.71       -0.70998356 -0.71001644]\n",
      " [-0.71       -0.70998332 -0.71001668]\n",
      " [-0.71       -0.70998313 -0.71001687]\n",
      " [-0.71       -0.70998354 -0.71001646]\n",
      " [-0.71       -0.70998378 -0.71001622]\n",
      " [-0.71       -0.70998387 -0.71001613]\n",
      " [-0.71       -0.70998371 -0.71001629]\n",
      " [-0.71       -0.7099839  -0.7100161 ]\n",
      " [-0.71       -0.70998401 -0.71001599]\n",
      " [-0.71       -0.70998401 -0.71001599]\n",
      " [-0.71       -0.70998416 -0.71001584]\n",
      " [-0.71       -0.70998431 -0.71001569]\n",
      " [-0.71       -0.70998447 -0.71001553]\n",
      " [-0.71       -0.70998458 -0.71001542]\n",
      " [-0.71       -0.70998478 -0.71001522]\n",
      " [-0.71       -0.70998456 -0.71001544]\n",
      " [-0.71       -0.70998471 -0.71001529]\n",
      " [-0.71       -0.70998471 -0.71001529]\n",
      " [-0.71       -0.70998456 -0.71001544]\n",
      " [-0.71       -0.70998489 -0.71001511]\n",
      " [-0.71       -0.70998485 -0.71001515]\n",
      " [-0.71       -0.70998498 -0.71001502]\n",
      " [-0.71       -0.70998479 -0.71001521]\n",
      " [-0.71       -0.70998479 -0.71001521]\n",
      " [-0.71       -0.70998544 -0.71001456]\n",
      " [-0.71       -0.70998598 -0.71001402]\n",
      " [-0.71       -0.70998618 -0.71001382]\n",
      " [-0.71       -0.70998687 -0.71001313]\n",
      " [-0.71       -0.70998705 -0.71001295]\n",
      " [-0.71       -0.70998864 -0.71001136]\n",
      " [-0.71       -0.7099886  -0.7100114 ]\n",
      " [-0.71       -0.70998892 -0.71001108]\n",
      " [-0.71       -0.70998967 -0.71001033]\n",
      " [-0.71       -0.70998966 -0.71001034]\n",
      " [-0.71       -0.70998871 -0.71001129]\n",
      " [-0.71       -0.70998878 -0.71001122]\n",
      " [-0.71       -0.70998896 -0.71001104]\n",
      " [-0.71       -0.70998899 -0.71001101]\n",
      " [-0.71       -0.70998894 -0.71001106]\n",
      " [-0.71       -0.70998886 -0.71001114]\n",
      " [-0.71       -0.70998867 -0.71001133]\n",
      " [-0.71       -0.7099884  -0.7100116 ]\n",
      " [-0.71       -0.70998833 -0.71001167]\n",
      " [-0.71       -0.70998851 -0.71001149]\n",
      " [-0.71       -0.70998878 -0.71001122]\n",
      " [-0.71       -0.70998904 -0.71001096]\n",
      " [-0.71       -0.70998904 -0.71001096]\n",
      " [-0.71       -0.70998896 -0.71001104]\n",
      " [-0.71       -0.70998917 -0.71001083]\n",
      " [-0.71       -0.70998954 -0.71001046]\n",
      " [-0.71       -0.70998971 -0.71001029]\n",
      " [-0.71       -0.70999004 -0.71000996]\n",
      " [-0.71       -0.70999006 -0.71000994]\n",
      " [-0.71       -0.70999004 -0.71000996]\n",
      " [-0.71       -0.70998999 -0.71001001]\n",
      " [-0.71       -0.7099897  -0.7100103 ]\n",
      " [-0.71       -0.70998976 -0.71001024]\n",
      " [-0.71       -0.70998954 -0.71001046]\n",
      " [-0.71       -0.70999052 -0.71000948]\n",
      " [-0.71       -0.70999014 -0.71000986]\n",
      " [-0.71       -0.7099916  -0.7100084 ]\n",
      " [-0.71       -0.70999157 -0.71000843]\n",
      " [-0.71       -0.70999101 -0.71000899]\n",
      " [-0.71       -0.70999017 -0.71000983]\n",
      " [-0.71       -0.70999092 -0.71000908]\n",
      " [-0.71       -0.70999081 -0.71000919]\n",
      " [-0.71       -0.70999057 -0.71000943]\n",
      " [-0.71       -0.70999029 -0.71000971]\n",
      " [-0.71       -0.7099903  -0.7100097 ]\n",
      " [-0.71       -0.70999036 -0.71000964]\n",
      " [-0.71       -0.70999071 -0.71000929]\n",
      " [-0.71       -0.70999078 -0.71000922]\n",
      " [-0.71       -0.70999072 -0.71000928]\n",
      " [-0.71       -0.70999085 -0.71000915]\n",
      " [-0.71       -0.70999027 -0.71000973]\n",
      " [-0.71       -0.70999022 -0.71000978]\n",
      " [-0.71       -0.70999019 -0.71000981]\n",
      " [-0.71       -0.70999001 -0.71000999]\n",
      " [-0.71       -0.70999001 -0.71000999]\n",
      " [-0.71       -0.70999001 -0.71000999]\n",
      " [-0.71       -0.70998995 -0.71001005]\n",
      " [-0.71       -0.70998998 -0.71001002]\n",
      " [-0.71       -0.70999001 -0.71000999]\n",
      " [-0.71       -0.70998987 -0.71001013]\n",
      " [-0.71       -0.70998992 -0.71001008]\n",
      " [-0.71       -0.7099904  -0.7100096 ]\n",
      " [-0.71       -0.70999032 -0.71000968]\n",
      " [-0.71       -0.70999085 -0.71000915]\n",
      " [-0.71       -0.70999085 -0.71000915]\n",
      " [-0.71       -0.70999095 -0.71000905]\n",
      " [-0.71       -0.70999119 -0.71000881]\n",
      " [-0.71       -0.70999045 -0.71000955]\n",
      " [-0.71       -0.7099913  -0.7100087 ]\n",
      " [-0.71       -0.70999189 -0.71000811]\n",
      " [-0.71       -0.70999148 -0.71000852]\n",
      " [-0.71       -0.70999154 -0.71000846]\n",
      " [-0.71       -0.70999178 -0.71000822]\n",
      " [-0.71       -0.70999187 -0.71000813]\n",
      " [-0.71       -0.70999189 -0.71000811]\n",
      " [-0.71       -0.7099916  -0.7100084 ]\n",
      " [-0.71       -0.70999151 -0.71000849]\n",
      " [-0.71       -0.70999156 -0.71000844]\n",
      " [-0.71       -0.70999184 -0.71000816]\n",
      " [-0.71       -0.70999185 -0.71000815]\n",
      " [-0.71       -0.70999259 -0.71000741]\n",
      " [-0.71       -0.70999271 -0.71000729]\n",
      " [-0.71       -0.70999284 -0.71000716]\n",
      " [-0.71       -0.70999295 -0.71000705]\n",
      " [-0.71       -0.70999273 -0.71000727]\n",
      " [-0.71       -0.70999056 -0.71000944]\n",
      " [-0.71       -0.70999058 -0.71000942]\n",
      " [-0.71       -0.70999063 -0.71000937]\n",
      " [-0.71       -0.70999035 -0.71000965]\n",
      " [-0.71       -0.70999068 -0.71000932]\n",
      " [-0.71       -0.70999029 -0.71000971]\n",
      " [-0.71       -0.70998983 -0.71001017]\n",
      " [-0.71       -0.70998969 -0.71001031]\n",
      " [-0.71       -0.7099898  -0.7100102 ]\n",
      " [-0.71       -0.70998957 -0.71001043]\n",
      " [-0.71       -0.7099896  -0.7100104 ]\n",
      " [-0.71       -0.70998952 -0.71001048]\n",
      " [-0.71       -0.70998981 -0.71001019]\n",
      " [-0.71       -0.70998969 -0.71001031]\n",
      " [-0.71       -0.70998969 -0.71001031]\n",
      " [-0.71       -0.70999003 -0.71000997]\n",
      " [-0.71       -0.7099898  -0.7100102 ]\n",
      " [-0.71       -0.70998979 -0.71001021]\n",
      " [-0.71       -0.70998972 -0.71001028]\n",
      " [-0.71       -0.70998969 -0.71001031]\n",
      " [-0.71       -0.70998983 -0.71001017]\n",
      " [-0.71       -0.7099899  -0.7100101 ]\n",
      " [-0.71       -0.70998969 -0.71001031]\n",
      " [-0.71       -0.70998964 -0.71001036]\n",
      " [-0.71       -0.70998974 -0.71001026]\n",
      " [-0.71       -0.70998971 -0.71001029]\n",
      " [-0.71       -0.70998966 -0.71001034]\n",
      " [-0.71       -0.7099896  -0.7100104 ]\n",
      " [-0.71       -0.70998962 -0.71001038]\n",
      " [-0.71       -0.70998973 -0.71001027]\n",
      " [-0.71       -0.70999093 -0.71000907]\n",
      " [-0.71       -0.70999082 -0.71000918]\n",
      " [-0.71       -0.70999085 -0.71000915]\n",
      " [-0.71       -0.7099913  -0.7100087 ]\n",
      " [-0.71       -0.70999123 -0.71000877]\n",
      " [-0.71       -0.70999131 -0.71000869]\n",
      " [-0.71       -0.70999174 -0.71000826]\n",
      " [-0.71       -0.70999139 -0.71000861]\n",
      " [-0.71       -0.70999132 -0.71000868]\n",
      " [-0.71       -0.70999138 -0.71000862]\n",
      " [-0.71       -0.70999139 -0.71000861]\n",
      " [-0.71       -0.7099914  -0.7100086 ]\n",
      " [-0.71       -0.70999166 -0.71000834]\n",
      " [-0.71       -0.7099918  -0.7100082 ]\n",
      " [-0.71       -0.70999155 -0.71000845]\n",
      " [-0.71       -0.70999152 -0.71000848]\n",
      " [-0.71       -0.70999151 -0.71000849]\n",
      " [-0.71       -0.70999155 -0.71000845]\n",
      " [-0.71       -0.70999174 -0.71000826]\n",
      " [-0.71       -0.70999154 -0.71000846]\n",
      " [-0.71       -0.70999159 -0.71000841]\n",
      " [-0.71       -0.70999131 -0.71000869]\n",
      " [-0.71       -0.7099915  -0.7100085 ]\n",
      " [-0.71       -0.7099915  -0.7100085 ]\n",
      " [-0.71       -0.70999119 -0.71000881]\n",
      " [-0.71       -0.70999114 -0.71000886]\n",
      " [-0.71       -0.7099912  -0.7100088 ]\n",
      " [-0.71       -0.7099911  -0.7100089 ]\n",
      " [-0.71       -0.70999096 -0.71000904]\n",
      " [-0.71       -0.70999082 -0.71000918]\n",
      " [-0.71       -0.70999175 -0.71000825]\n",
      " [-0.71       -0.70999174 -0.71000826]\n",
      " [-0.71       -0.70999179 -0.71000821]\n",
      " [-0.71       -0.70999011 -0.71000989]\n",
      " [-0.71       -0.70999025 -0.71000975]\n",
      " [-0.71       -0.70999019 -0.71000981]\n",
      " [-0.71       -0.70999021 -0.71000979]\n",
      " [-0.71       -0.70999051 -0.71000949]\n",
      " [-0.71       -0.70999053 -0.71000947]\n",
      " [-0.71       -0.7099903  -0.7100097 ]\n",
      " [-0.71       -0.70999    -0.71001   ]\n",
      " [-0.71       -0.70999005 -0.71000995]\n",
      " [-0.71       -0.70999006 -0.71000994]\n",
      " [-0.71       -0.70999007 -0.71000993]\n",
      " [-0.71       -0.70999007 -0.71000993]\n",
      " [-0.71       -0.70998998 -0.71001002]\n",
      " [-0.71       -0.7099903  -0.7100097 ]\n",
      " [-0.71       -0.7099902  -0.7100098 ]\n",
      " [-0.71       -0.70999013 -0.71000987]\n",
      " [-0.71       -0.70999028 -0.71000972]\n",
      " [-0.71       -0.70999023 -0.71000977]\n",
      " [-0.71       -0.7099906  -0.7100094 ]\n",
      " [-0.71       -0.70999047 -0.71000953]\n",
      " [-0.71       -0.70998999 -0.71001001]\n",
      " [-0.71       -0.70999017 -0.71000983]\n",
      " [-0.71       -0.70999029 -0.71000971]\n",
      " [-0.71       -0.70998984 -0.71001016]\n",
      " [-0.71       -0.70998981 -0.71001019]\n",
      " [-0.71       -0.70998989 -0.71001011]\n",
      " [-0.71       -0.70998965 -0.71001035]\n",
      " [-0.71       -0.7099895  -0.7100105 ]\n",
      " [-0.71       -0.70998965 -0.71001035]\n",
      " [-0.71       -0.70998949 -0.71001051]\n",
      " [-0.71       -0.70999096 -0.71000904]\n",
      " [-0.71       -0.70999062 -0.71000938]\n",
      " [-0.71       -0.7099907  -0.7100093 ]\n",
      " [-0.71       -0.70998998 -0.71001002]\n",
      " [-0.71       -0.70999001 -0.71000999]]\n"
     ]
    }
   ],
   "source": [
    "#print(sma_bb)\n",
    "#print(bbu)\n",
    "#print(bbd)\n",
    "bolli= np.column_stack((sma_bb,bbu,bbd))\n",
    "print(bolli)"
   ]
  },
  {
   "cell_type": "code",
   "execution_count": 14,
   "metadata": {},
   "outputs": [
    {
     "name": "stdout",
     "output_type": "stream",
     "text": [
      "247\n"
     ]
    }
   ],
   "source": [
    "diff=np.empty(len(y)-1,float)\n",
    "for i in range(0,len(y)-1):\n",
    "    diff[i]=y[i+1]-y[i]\n",
    "#print(diff)\n",
    "print(len(diff))\n"
   ]
  },
  {
   "cell_type": "code",
   "execution_count": 15,
   "metadata": {
    "collapsed": true
   },
   "outputs": [],
   "source": [
    "#RSI N=14\n",
    "pos=np.zeros(len(y)-1,float)\n",
    "neg=np.zeros(len(y)-1,float)\n",
    "for i in range(0,len(y)-1):\n",
    "    if diff[i]>0 :\n",
    "        pos[i]=diff[i]\n",
    "    else:\n",
    "        neg[i]=diff[i]\n",
    "#print(pos)\n",
    "#print(neg)\n",
    "\n"
   ]
  },
  {
   "cell_type": "code",
   "execution_count": 16,
   "metadata": {
    "collapsed": true
   },
   "outputs": [],
   "source": [
    "#nrsi=14\n",
    "rp=np.empty(len(y)-nrsi+1,float)\n",
    "rn=np.empty(len(y)-nrsi+1,float)\n",
    "rp[0]=stat.mean(pos[0:nrsi-1])\n",
    "rn[0]=stat.mean(neg[0:nrsi-1])\n"
   ]
  },
  {
   "cell_type": "code",
   "execution_count": 17,
   "metadata": {
    "collapsed": true
   },
   "outputs": [],
   "source": [
    "for i in range(1,len(y)-nrsi+1):\n",
    "    rp[i]=((rp[i-1]*(nrsi-1))+pos[i])/nrsi\n",
    "    rn[i]=((rn[i-1]*(nrsi-1))+neg[i])/nrsi\n",
    "    #print(i)\n",
    "#print(rp)\n",
    "#print(rn)"
   ]
  },
  {
   "cell_type": "code",
   "execution_count": 18,
   "metadata": {},
   "outputs": [
    {
     "name": "stdout",
     "output_type": "stream",
     "text": [
      "239\n"
     ]
    }
   ],
   "source": [
    "rsi=np.empty(len(y)-nrsi+1,float)\n",
    "for i in range(0,len(y)-nrsi+1):\n",
    "    rs=rp[i]/rn[i]\n",
    "    rsi[i]=100-(100/(1-rs))\n",
    "print(len(rsi))"
   ]
  },
  {
   "cell_type": "code",
   "execution_count": 19,
   "metadata": {},
   "outputs": [
    {
     "data": {
      "image/png": "[encoded data removed]",
      "text/plain": [
       "<Figure size 432x288 with 1 Axes>"
      ]
     },
     "metadata": {},
     "output_type": "display_data"
    }
   ],
   "source": [
    "#da=[]\n",
    "#for i in range(13,494):\n",
    "#    da.append(dates[i])\n",
    "    \n",
    "#x = [dt.datetime.strptime(d,'%d-%b-%Y').date() for d in da ]\n",
    "#fig=plt.figure(figsize=(8, 6), dpi= 800, facecolor='w', edgecolor='k')\n",
    "plt.plot(rsi)\n",
    "#plt.gcf().autofmt_xdate()\n",
    "#plt.title('Relative Strength Index',size=16)\n",
    "#plt.ylabel('RSI value',size=16)\n",
    "#plt.xlabel('Time',size=16)\n",
    "#plt.savefig('5.png')\n",
    "plt.show()\n"
   ]
  },
  {
   "cell_type": "code",
   "execution_count": 20,
   "metadata": {
    "collapsed": true
   },
   "outputs": [],
   "source": [
    "#ns_macd=26\n",
    "#nf_macd=12\n",
    "ema_f=np.empty(len(y)+1-nf_macd,float)\n",
    "ema_s=np.empty(len(y)+1-ns_macd,float)\n",
    "ema_s[0]=stat.mean(y[0:ns_macd-1])\n",
    "ema_f[0]=stat.mean(y[0:nf_macd-1])\n",
    "#print(len(y)-11)"
   ]
  },
  {
   "cell_type": "code",
   "execution_count": 21,
   "metadata": {},
   "outputs": [
    {
     "name": "stdout",
     "output_type": "stream",
     "text": [
      "229\n"
     ]
    }
   ],
   "source": [
    "for i in range(1,len(y)+1-nf_macd):\n",
    "    a=-(ema_f[i-1]-y[nf_macd-1+i])\n",
    "    ema_f[i]=a*(2/(nf_macd+1)) + ema_f[i-1]\n",
    "    #print(y[i+49])\n",
    "    #print(i)\n",
    "#print(ema)\n",
    "print(len(ema_f))\n",
    "\n",
    "\n",
    "\n",
    "for i in range(1,len(y)+1-ns_macd):\n",
    "    e=y[ns_macd+i-1]-ema_s[i-1]\n",
    "    ema_s[i]=e*(2/(ns_macd+1)) + ema_s[i-1]\n",
    "    #print(ema26[i])\n",
    "    #print(y[11+i])\n",
    "    #print(i)\n",
    "#print(ema26)\n",
    "\n"
   ]
  },
  {
   "cell_type": "code",
   "execution_count": 22,
   "metadata": {},
   "outputs": [
    {
     "name": "stdout",
     "output_type": "stream",
     "text": [
      "[0.0, 0.0, 0.0, 0.0, 0.0, 0.0, 0.0, 0.0, 0.0, 0.0, 0.0, 0.0, 0.0, 0.0, 0.0, 0.0, 0.0, 0.0, 0.0, 0.0, 0.0, 0.0, 0.0, 0.0, 0.0, 0.0, 0.0, 0.0, 0.0, 0.0, 0.0, 0.0, 0.0, 0.0, 0.0, 0.0, 0.0, 0.0, 0.0, 0.0, 0.0, 0.0, 0.0, 0.0, 0.0, 0.0, 0.0, 0.0, 0.0, 0.0, 0.0, 0.0, 0.0, 0.0, 0.0, 0.0, 0.0, 0.0, 0.0, 0.0, 0.0, 0.0, 0.0, 0.0, 0.0, 0.0, 0.0, 0.0, 0.0, 0.0, 0.0, 0.0, 0.0, 0.0, 0.0, 0.0, 0.0, 0.0, 0.0, 0.0, 0.0, 0.0, 0.0, 0.0, 0.0, 0.0, 0.0, 0.0, 0.0, 0.0, 0.0, 0.0, 0.0, 0.0, 0.0, 0.0, 0.0, 0.0, 0.0, 0.0, 0.0, 0.0, 0.0, 0.0, 0.0, 0.0, 0.0, 0.0, 0.0, 0.0, 0.0, 0.0, 0.0, 0.0, 0.0, 0.0, 0.0, 0.0, 0.0, 0.0, 0.0, 0.0, 0.0, 0.0, 0.0, 0.0, 0.0, 0.0, 0.0, 0.0, 0.0, 0.0, 0.0, 0.0, 0.0, 0.0, 0.0, 0.0, 0.0, 0.0, 0.0, 0.0, 0.0, 0.0, 0.0, 0.0, 0.0, 0.0, 0.0, 0.0, 0.0, 0.0, 0.0, 0.0, 0.0, 0.0, 0.0, 0.0, 0.0, 0.0, 0.0, 0.0, 0.0, 0.0, 0.0, 0.0, 0.0, 0.0, 0.0, 0.0, 0.0, 0.0, 0.0, 0.0, 0.0, 0.0, 0.0, 0.0, 0.0, 0.0, 0.0, 0.0, 0.0, 0.0, 0.0, 0.0, 0.0, 0.0, 0.0, 0.0, 0.0, 0.0, 0.0, 0.0, 0.0, 0.0, 0.0, 0.0, 0.0, 0.0, 0.0, 0.0, 0.0, 0.0, 0.0, 0.0, 0.0, 0.0, 0.0, 0.0, 0.0, 0.0, 0.0, 0.0, 0.0, 0.0, 0.0, 0.0, 0.0, 0.0, 0.0, 0.0, 0.0, 0.0, 0.0, 0.0, 0.0, 0.0, 0.0, 0.0, 0.0, 0.0, 0.0, 0.0, 0.0, 0.0, 0.0, 0.0, 0.0, 0.0]\n"
     ]
    }
   ],
   "source": [
    "#OCC Indicator \n",
    "cumsum, moving_aves = [0], []\n",
    "for i, x in enumerate(y, 1):\n",
    "    cumsum.append(cumsum[i-1] + x)\n",
    "    if i>occ_n:\n",
    "\n",
    "        moving_ave = (cumsum[i] - cumsum[i-occ_n])/occ_n\n",
    "        moving_aves.append(round(moving_ave,2))\n",
    "occ_c=np.array(moving_aves).astype('float')\n",
    "\n",
    "cumsum, moving_aves = [0], []\n",
    "for i, x in enumerate(y_o, 1):\n",
    "    cumsum.append(cumsum[i-1] + x)\n",
    "    if i>occ_n:\n",
    "\n",
    "        moving_ave = (cumsum[i] - cumsum[i-occ_n])/occ_n\n",
    "        moving_aves.append(round(moving_ave,2))\n",
    "occ_o=np.array(moving_aves).astype('float')\n",
    "occi= np.column_stack((occ_c,occ_o))\n",
    "#print(occi)\n",
    "cc=[]\n",
    "for i in range(0,len(occ_o)):\n",
    "    d=occ_c[i]-occ_o[i]\n",
    "    #print(d)\n",
    "    cc.append(occ_c[i]-occ_o[i])\n",
    "print(cc)\n"
   ]
  },
  {
   "cell_type": "code",
   "execution_count": 23,
   "metadata": {
    "collapsed": true
   },
   "outputs": [],
   "source": [
    "macd=np.empty(len(ema_s),float)\n",
    "for i in range(0,len(ema_s)):\n",
    "    #print(Ema12[i+14])\n",
    "    #print(ema26[i])\n",
    "    macd[i]=ema_f[i+ns_macd-nf_macd]-ema_s[i]\n",
    "#print(macd)"
   ]
  },
  {
   "cell_type": "code",
   "execution_count": 24,
   "metadata": {
    "collapsed": true
   },
   "outputs": [],
   "source": [
    "#taking macd average of 9 days\n",
    "#n_macd=9\n",
    "macdn=np.empty(len(macd)+1-n_macd,float)\n",
    "macdn[0]=stat.mean(macd[0:n_macd-1])\n",
    "for i in range(1,len(macd)-n_macd+1):\n",
    "    e=macd[n_macd-1+i]-macd[i-1]\n",
    "    macdn[i]=e*(2/(n_macd+1)) + macd[i-1]\n",
    "#print(macdn)"
   ]
  },
  {
   "cell_type": "code",
   "execution_count": 25,
   "metadata": {
    "collapsed": true
   },
   "outputs": [],
   "source": [
    "obv=np.empty(len(y)-1,float)\n",
    "obv[0]=vole[0]\n",
    "for i in range(1,len(y)-1):\n",
    "    if y[i-1]>y[i]:\n",
    "        obv[i]=obv[i-1]-vole[i]\n",
    "    if y[i-1]<y[i]:\n",
    "        obv[i]=obv[i-1]+vole[i]\n",
    "    if y[i+1]==y[i]:\n",
    "        obv[i]=vole[i-1]\n",
    "#print(obv)\n",
    "#print(len(obv))"
   ]
  },
  {
   "cell_type": "code",
   "execution_count": 26,
   "metadata": {},
   "outputs": [
    {
     "name": "stdout",
     "output_type": "stream",
     "text": [
      "247\n",
      "248\n"
     ]
    }
   ],
   "source": [
    "day_status=[]\n",
    "\n",
    "for i in range(len(y)):\n",
    "    if y[i-1] > y[i]:\n",
    "        status=0\n",
    "        day_status.append(status)\n",
    "    else:\n",
    "        status=1\n",
    "        day_status.append(status)\n",
    "\n",
    "day_status.remove(day_status[0])\n",
    "#print(day_status)\n",
    "print(len(day_status))\n",
    "print(len(y))"
   ]
  },
  {
   "cell_type": "code",
   "execution_count": 27,
   "metadata": {},
   "outputs": [
    {
     "name": "stdout",
     "output_type": "stream",
     "text": [
      "195\n",
      "194\n",
      "194\n"
     ]
    }
   ],
   "source": [
    "x=min(len(sma),len(ema),len(dev),len(rsi),len(macdn),len(y),len(bbu),len(occ_o))\n",
    "print(x)\n",
    "day_status_new=day_status[len(y)-x:len(y)]\n",
    "sma_new=sma[len(sma)-x:len(sma)-1]\n",
    "ema_new=ema[len(ema)-x:len(ema)-1]\n",
    "bbd_new=bbd[len(bbd)-x:len(bbd)-1]\n",
    "bbu_new=bbu[len(bbd)-x:len(bbd)-1]\n",
    "rsi_new=rsi[len(rsi)-x:len(rsi)-1]\n",
    "cc_new=cc[len(occ_o)-x:len(occ_o)-1]\n",
    "macdn_new=macdn[len(macdn)-x:len(macdn)-1]\n",
    "macd_new=macd[len(macd)-x:len(macd)-1]\n",
    "sma_bb_new=sma_bb[len(sma_bb)-x:len(sma_bb)-1]\n",
    "y_new=y[len(y)-x:len(y)-1]\n",
    "print(len(bbu_new))\n",
    "print(len(y_new))"
   ]
  },
  {
   "cell_type": "code",
   "execution_count": 28,
   "metadata": {},
   "outputs": [
    {
     "name": "stdout",
     "output_type": "stream",
     "text": [
      "194\n",
      "194\n",
      "194\n",
      "194\n",
      "194\n",
      "194\n",
      "194\n",
      "194\n",
      "194\n",
      "194\n",
      "194\n"
     ]
    }
   ],
   "source": [
    "print(len(day_status_new))\n",
    "print(len(sma_new))\n",
    "print(len(ema_new))\n",
    "print(len(bbd_new))\n",
    "print(len(bbu_new))\n",
    "print(len(rsi_new))\n",
    "print(len(cc_new))\n",
    "print(len(macdn_new))\n",
    "print(len(macd_new))\n",
    "print(len(sma_bb_new))\n",
    "print(len(y_new))\n",
    "z= np.column_stack((ema_new,rsi_new,macdn_new,sma_bb_new,bbd_new,bbu_new,sma_new,cc_new,macd_new))"
   ]
  },
  {
   "cell_type": "code",
   "execution_count": 29,
   "metadata": {},
   "outputs": [
    {
     "name": "stdout",
     "output_type": "stream",
     "text": [
      "155\n",
      "194\n"
     ]
    }
   ],
   "source": [
    "g=int(0.8*(x-1))\n",
    "print(g)\n",
    "h=len(y_new)\n",
    "print(h)"
   ]
  },
  {
   "cell_type": "code",
   "execution_count": 30,
   "metadata": {
    "collapsed": true
   },
   "outputs": [],
   "source": [
    "\n",
    "from sklearn.decomposition import PCA as sklearnPCA\n",
    "sklearn_pca = sklearnPCA(n_components=2)\n",
    "Y_sklearn = sklearn_pca.fit_transform(z)\n"
   ]
  },
  {
   "cell_type": "code",
   "execution_count": 31,
   "metadata": {},
   "outputs": [
    {
     "data": {
      "text/plain": [
       "KNeighborsClassifier(algorithm='auto', leaf_size=10, metric='minkowski',\n",
       "           metric_params=None, n_jobs=1, n_neighbors=5, p=1,\n",
       "           weights='uniform')"
      ]
     },
     "execution_count": 31,
     "metadata": {},
     "output_type": "execute_result"
    }
   ],
   "source": [
    "from sklearn.neighbors import KNeighborsClassifier\n",
    "knn = KNeighborsClassifier()\n",
    "knn.fit(Y_sklearn[:g],day_status_new[:g]) \n",
    "KNeighborsClassifier(algorithm='auto', leaf_size=10, metric='minkowski',\n",
    "           metric_params=None, n_jobs=1, n_neighbors=5, p=1,\n",
    "           weights='uniform')\n"
   ]
  },
  {
   "cell_type": "code",
   "execution_count": 32,
   "metadata": {
    "collapsed": true
   },
   "outputs": [],
   "source": [
    "k=knn.predict(Y_sklearn[g+1:h])"
   ]
  },
  {
   "cell_type": "code",
   "execution_count": 33,
   "metadata": {},
   "outputs": [
    {
     "name": "stdout",
     "output_type": "stream",
     "text": [
      "[0, 1, 0, 0, 1, 1, 0, 0, 1, 0, 1, 1, 0, 0, 1, 0, 0, 1, 1, 1, 0, 1, 0, 0, 1, 1, 1, 0, 0, 0, 1, 0, 0, 1, 0, 1, 0, 1]\n",
      "[0 1 0 1 0 1 0 0 1 0 0 0 0 0 1 0 0 1 0 0 0 0 0 1 0 0 1 0 0 0 0 0 0 0 0 0 0\n",
      " 0]\n",
      "24\n",
      "63.1578947368421\n"
     ]
    }
   ],
   "source": [
    "predict_length = len(Y_sklearn[g+1:h])\n",
    "count=0;\n",
    "a=day_status_new[g+1:h];\n",
    "print(a)\n",
    "print(k)\n",
    "for i in range(predict_length):\n",
    "    if a[i] == k[i]:\n",
    "        count+=1;\n",
    "    else:\n",
    "        count+=0;\n",
    "print(count)   \n",
    "acc_percent= ((count)/(predict_length))*100;\n",
    "print(acc_percent)"
   ]
  }
 ],
 "metadata": {
  "celltoolbar": "Raw Cell Format",
  "kernelspec": {
   "display_name": "Python 3",
   "language": "python",
   "name": "python3"
  },
  "language_info": {
   "codemirror_mode": {
    "name": "ipython",
    "version": 3
   },
   "file_extension": ".py",
   "mimetype": "text/x-python",
   "name": "python",
   "nbconvert_exporter": "python",
   "pygments_lexer": "ipython3",
   "version": "3.6.8"
  }
 },
 "nbformat": 4,
 "nbformat_minor": 2
}
